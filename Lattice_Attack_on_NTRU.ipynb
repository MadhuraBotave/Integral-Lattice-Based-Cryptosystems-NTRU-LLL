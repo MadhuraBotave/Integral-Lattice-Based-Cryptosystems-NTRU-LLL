{
  "nbformat": 4,
  "nbformat_minor": 0,
  "metadata": {
    "colab": {
      "provenance": []
    },
    "kernelspec": {
      "name": "python3",
      "display_name": "Python 3"
    },
    "language_info": {
      "name": "python"
    }
  },
  "cells": [
    {
      "cell_type": "code",
      "source": [
        "import numpy as np\n",
        "from sympy import Matrix, symbols, Poly, invert, gcd\n",
        "from sympy.polys.matrices import DomainMatrix\n",
        "from numpy import linalg as la"
      ],
      "metadata": {
        "id": "y9om15QHKKXr"
      },
      "execution_count": null,
      "outputs": []
    },
    {
      "cell_type": "code",
      "source": [
        "def poly_mult_mod(a, b, N, q):\n",
        "    \"\"\"Multiplies two polynomials a and b modulo q and X^N - 1\"\"\"\n",
        "\n",
        "    result = np.zeros(N, dtype=int)\n",
        "    for i in range(N):\n",
        "        for j in range(N):\n",
        "            result[(i + j) % N] += (a[i] * b[j])\n",
        "    #print(\"Print polynomial Multiplication: \",result%q)\n",
        "    return result%q\n",
        "\n",
        "def poly_inv_mod(f, N, q):\n",
        "    \"\"\"Finds the inverse of a polynomial f mod q using SymPy's invert function.\"\"\"\n",
        "    x = symbols('x')\n",
        "\n",
        "    f_poly = Poly(f, x).set_modulus(q)\n",
        "    #print(f_poly)\n",
        "    modulus_poly = Poly(x**N - 1, x).set_modulus(q)\n",
        "\n",
        "    try:\n",
        "        # Check if the polynomial is invertible (gcd(f, x^N - 1) should be 1)\n",
        "        if gcd(f_poly, modulus_poly) != 1:\n",
        "            print(f\"Polynomial {f} is not invertible mod {q}\")\n",
        "            return None\n",
        "\n",
        "        f_inv_poly = invert(f_poly, modulus_poly)  # Finds the modular inverse\n",
        "        f_inv = np.array(f_inv_poly.all_coeffs(), dtype=int) % q  # Convert to NumPy array\n",
        "\n",
        "\n",
        "        # Ensure the resulting inverse has N coefficients\n",
        "        if len(f_inv) < N:\n",
        "            f_inv = np.concatenate([np.zeros(N - len(f_inv)), f_inv])  # Pad with zeros\n",
        "        return f_inv\n",
        "    except Exception as e:\n",
        "        print(f\"Error computing inverse for polynomial {f}: {e}\")\n",
        "        return None  # Return None if the inverse doesn't exist"
      ],
      "metadata": {
        "id": "tHR_dxsGKT3u"
      },
      "execution_count": null,
      "outputs": []
    },
    {
      "cell_type": "code",
      "source": [
        "def gen_random_poly(d1, d2, N):\n",
        "    \"\"\"Generates a random ternary polynomial with exactly d1 coefficients equal to 1 and d2 equal to -1.\"\"\"\n",
        "    poly = [0] * N\n",
        "    ones = np.random.choice(N, d1, replace=False)  # Select positions for +1s\n",
        "    minus_ones = np.random.choice(list(set(range(N)) - set(ones)), d2, replace=False)  # Select positions for -1s\n",
        "\n",
        "    for i in ones:\n",
        "        poly[i] = 1\n",
        "    for i in minus_ones:\n",
        "        poly[i] = -1\n",
        "\n",
        "    return poly\n",
        "\n",
        "def keygen(N, p, q):\n",
        "    \"\"\"Key generation: creates the public key h and private keys f, Fp, Fq\"\"\"\n",
        "    while True:\n",
        "        # Randomly choose f from T(d+1, d) and g from T(d, d)\n",
        "        #f=[-1,0,1,1,-1,0,1]\n",
        "        f = gen_random_poly(d1=N//3+1, d2=N//3, N=N)\n",
        "        g = gen_random_poly(d1=N//3, d2=N//3, N=N)\n",
        "        print(\"f: \",f)\n",
        "        print(\"g: \",g)\n",
        "        buffer_f=f\n",
        "        buffer_f.reverse()\n",
        "        #g=[0,-1,-1,0,1,0,1]\n",
        "\n",
        "        Fq = poly_inv_mod(buffer_f, N, q)\n",
        "        Fq=np.flip(Fq)\n",
        "        print(\"Inverse of f mod q (Fq):\", Fq)\n",
        "        Fp = poly_inv_mod(buffer_f, N, p)\n",
        "        Fp=np.flip(Fp)\n",
        "        print(\"Inverse of f mod p (Fp):\", Fp)\n",
        "\n",
        "        if Fq is not None and Fp is not None:\n",
        "            break\n",
        "\n",
        "    h = p*poly_mult_mod(Fq, g, N, q)%q\n",
        "    f.reverse()\n",
        "\n",
        "    return f, Fp, Fq, h,g"
      ],
      "metadata": {
        "id": "-b968a9sKvKj"
      },
      "execution_count": null,
      "outputs": []
    },
    {
      "cell_type": "code",
      "source": [
        "def encrypt(h, m, r, N, p, q):\n",
        "    \"\"\"Encrypts message m using public key h and random r\"\"\"\n",
        "\n",
        "\n",
        "    pr = poly_mult_mod(h, r, N, q)  # p * r\n",
        "    e = (pr + m) % q  # e = p*r + h*m mod q\n",
        "    return e\n",
        "\n",
        "def decrypt(e, f, Fp, N, p, q):\n",
        "  \"\"\"Decrypts encrypted message e using private keys f and Fp\"\"\"\n",
        "  a = poly_mult_mod(f, e, N, q)  # Multiply f and e mod q\n",
        "  a = np.array([(x if x <= q // 2 else x - q) for x in a])  # Coefficients in [-q/2, q/2]\n",
        "\n",
        "  # Multiply Fp and a mod p\n",
        "  m_recovered = poly_mult_mod(Fp, a, N, p) % p\n",
        "  # Ensure m_recovered values are in [-p/2, p/2]\n",
        "  m_recovered = np.array([(x if x <= p // 2 else x - p) for x in m_recovered])\n",
        "  return m_recovered"
      ],
      "metadata": {
        "id": "KNbG2-sdL84Q"
      },
      "execution_count": null,
      "outputs": []
    },
    {
      "cell_type": "code",
      "source": [
        "N = 7   # Degree of the polynomials (choose small for example)\n",
        "p = 3   # Small modulus\n",
        "q = 41  # Large modulus\n",
        "\n",
        "# Key generation\n",
        "f, Fp, Fq, h,g = keygen(N, p, q)\n",
        "print(\"Public key (h):\", h)\n",
        "print(\"Private key (f):\", f)\n",
        "\n",
        "# Encryption\n",
        "m = np.array([1, 0, 1, 1, 0, -1, 0])  # Example message as a polynomial\n",
        "r = gen_random_poly(d1=N//3, d2=N//3, N=N)  # Random polynomial r\n",
        "print(\"r: \",r)\n",
        "#r=[-1,1,0,0,0,-1,1]\n",
        "e = encrypt(h, m, r, N, p, q)\n",
        "print(\"Encrypted message (e):\", e)\n",
        "\n",
        "\n",
        "# Decryption\n",
        "m_recovered = decrypt(e, f, Fp, N, p, q)\n",
        "print(\"Decrypted message (m_recovered):\", m_recovered)\n",
        "print(\"Original message: \",m)\n"
      ],
      "metadata": {
        "colab": {
          "base_uri": "https://localhost:8080/"
        },
        "id": "S-zg9F0cL6or",
        "outputId": "f58a5bfd-7bb2-4e87-849b-d583e823417a"
      },
      "execution_count": null,
      "outputs": [
        {
          "output_type": "stream",
          "name": "stdout",
          "text": [
            "f:  [-1, 1, 1, 0, -1, 0, 1]\n",
            "g:  [0, 0, 1, -1, 0, -1, 1]\n",
            "Inverse of f mod q (Fq): [ 4 38 25 13 23 30 32]\n",
            "Inverse of f mod p (Fp): [2 0 1 1 2 2 2]\n",
            "Public key (h): [19  1  9 40 37  7 10]\n",
            "Private key (f): [-1, 1, 1, 0, -1, 0, 1]\n",
            "r:  [0, 1, 1, -1, -1, 0, 0]\n",
            "Encrypted message (e): [23 26  4 23 29 25 36]\n",
            "Decrypted message (m_recovered): [ 1  0  1  1  0 -1  0]\n",
            "Original message:  [ 1  0  1  1  0 -1  0]\n"
          ]
        }
      ]
    },
    {
      "cell_type": "code",
      "source": [
        "g"
      ],
      "metadata": {
        "colab": {
          "base_uri": "https://localhost:8080/"
        },
        "id": "ji7TILtqqST6",
        "outputId": "7f3bf959-bba9-4c62-feb3-049c9d2b0e77"
      },
      "execution_count": null,
      "outputs": [
        {
          "output_type": "execute_result",
          "data": {
            "text/plain": [
              "[0, 0, 1, -1, 0, -1, 1]"
            ]
          },
          "metadata": {},
          "execution_count": 6
        }
      ]
    },
    {
      "cell_type": "code",
      "source": [
        "def create_lattice_matrix(h, N, q):\n",
        "    H = np.zeros((N, N), dtype=int)\n",
        "    for i in range(N):\n",
        "        H[i] = np.roll(h, i)\n",
        "    I = np.eye(N, dtype=int)\n",
        "    M_upper = np.hstack((I, H))\n",
        "    M_lower = np.hstack((np.zeros((N, N), dtype=int), q * I))\n",
        "    return np.vstack((M_upper, M_lower))"
      ],
      "metadata": {
        "id": "jlPkqArFMXy-"
      },
      "execution_count": null,
      "outputs": []
    },
    {
      "cell_type": "code",
      "source": [
        "def create_scaled_lattice_matrix(h, f, g, N, q):\n",
        "    # Calculate scaling factor `a` based on norm ratios of f and g\n",
        "    norm_f = la.norm(f)\n",
        "    norm_g = la.norm(g)\n",
        "    a = int(np.round((norm_g ** 2) / (norm_f ** 2)))  # Optimal scaling factor\n",
        "\n",
        "    # Construct H (circulant matrix for h)\n",
        "    H = np.zeros((N, N), dtype=int)\n",
        "    for i in range(N):\n",
        "        H[i] = np.roll(h, i)\n",
        "    I = np.eye(N, dtype=int)\n",
        "\n",
        "    # Add scaled rows with af and g for the attack lattice\n",
        "    af = (a * np.array(f)) % q\n",
        "    attack_vector = np.concatenate([af, g])\n",
        "\n",
        "    # Construct lattice matrix\n",
        "    M_upper = np.hstack((I, H))\n",
        "    M_lower = np.hstack((np.zeros((N, N), dtype=int), q * I))\n",
        "    lattice_matrix = np.vstack((M_upper, M_lower))\n",
        "    #lattice_matrix = np.vstack((M_upper, M_lower, attack_vector))\n",
        "\n",
        "    print(\"Scaling factor (a):\", a)\n",
        "    return lattice_matrix"
      ],
      "metadata": {
        "id": "FJGjcB5rafMG"
      },
      "execution_count": null,
      "outputs": []
    },
    {
      "cell_type": "code",
      "source": [
        "lattice_matrix = create_scaled_lattice_matrix(h, f, g, N, q)\n",
        "print(\"Lattice Matrix:\")\n",
        "print(lattice_matrix)"
      ],
      "metadata": {
        "colab": {
          "base_uri": "https://localhost:8080/"
        },
        "id": "gevj9_5rcG8d",
        "outputId": "c58b683f-2f65-49f3-b00d-9b2672fa0f82"
      },
      "execution_count": null,
      "outputs": [
        {
          "output_type": "stream",
          "name": "stdout",
          "text": [
            "Scaling factor (a): 1\n",
            "Lattice Matrix:\n",
            "[[ 1  0  0  0  0  0  0 19  1  9 40 37  7 10]\n",
            " [ 0  1  0  0  0  0  0 10 19  1  9 40 37  7]\n",
            " [ 0  0  1  0  0  0  0  7 10 19  1  9 40 37]\n",
            " [ 0  0  0  1  0  0  0 37  7 10 19  1  9 40]\n",
            " [ 0  0  0  0  1  0  0 40 37  7 10 19  1  9]\n",
            " [ 0  0  0  0  0  1  0  9 40 37  7 10 19  1]\n",
            " [ 0  0  0  0  0  0  1  1  9 40 37  7 10 19]\n",
            " [ 0  0  0  0  0  0  0 41  0  0  0  0  0  0]\n",
            " [ 0  0  0  0  0  0  0  0 41  0  0  0  0  0]\n",
            " [ 0  0  0  0  0  0  0  0  0 41  0  0  0  0]\n",
            " [ 0  0  0  0  0  0  0  0  0  0 41  0  0  0]\n",
            " [ 0  0  0  0  0  0  0  0  0  0  0 41  0  0]\n",
            " [ 0  0  0  0  0  0  0  0  0  0  0  0 41  0]\n",
            " [ 0  0  0  0  0  0  0  0  0  0  0  0  0 41]]\n"
          ]
        }
      ]
    },
    {
      "cell_type": "code",
      "source": [
        "h"
      ],
      "metadata": {
        "colab": {
          "base_uri": "https://localhost:8080/"
        },
        "id": "L7kRrsdOH2Sv",
        "outputId": "6bb439fe-469f-4b74-aba0-8ced8ae78312"
      },
      "execution_count": null,
      "outputs": [
        {
          "output_type": "execute_result",
          "data": {
            "text/plain": [
              "array([19,  1,  9, 40, 37,  7, 10])"
            ]
          },
          "metadata": {},
          "execution_count": 10
        }
      ]
    },
    {
      "cell_type": "code",
      "source": [
        "len(lattice_matrix)"
      ],
      "metadata": {
        "colab": {
          "base_uri": "https://localhost:8080/",
          "height": 141
        },
        "id": "aicFVvgzsiQw",
        "outputId": "1bfb39db-2fa4-4a69-9bad-054228988424"
      },
      "execution_count": null,
      "outputs": [
        {
          "output_type": "error",
          "ename": "NameError",
          "evalue": "name 'lattice_matrix' is not defined",
          "traceback": [
            "\u001b[0;31m---------------------------------------------------------------------------\u001b[0m",
            "\u001b[0;31mNameError\u001b[0m                                 Traceback (most recent call last)",
            "\u001b[0;32m<ipython-input-9-3e353d5bc2d6>\u001b[0m in \u001b[0;36m<cell line: 1>\u001b[0;34m()\u001b[0m\n\u001b[0;32m----> 1\u001b[0;31m \u001b[0mlen\u001b[0m\u001b[0;34m(\u001b[0m\u001b[0mlattice_matrix\u001b[0m\u001b[0;34m)\u001b[0m\u001b[0;34m\u001b[0m\u001b[0;34m\u001b[0m\u001b[0m\n\u001b[0m",
            "\u001b[0;31mNameError\u001b[0m: name 'lattice_matrix' is not defined"
          ]
        }
      ]
    },
    {
      "cell_type": "code",
      "source": [
        "b = np.array(create_lattice_matrix(h,N,q)).astype(float)\n",
        "ans=Matrix(np.array(create_lattice_matrix(h,N,q)))\n",
        "print(b)\n",
        "\n",
        "b_star = b.copy()   # Initialize the Gram-Schmidt basis.\n",
        "\n",
        "k = 1  # Initialize the working index.\n",
        "delta = 0.75  # Lovasz constant\n",
        "\n",
        "def mu(u, v):\n",
        "    '''Computes <u,v>/<u,u>, which is the scale used in projection.'''\n",
        "    return np.dot(u, v) / np.dot(u, u)\n",
        "\n",
        "def proj(u, v):\n",
        "    '''Computes the projection of vector v onto vector u. Assumes u is not zero.'''\n",
        "    return mu(u, v) * u\n",
        "\n",
        "def gram_schmidt():\n",
        "    '''Computes Gram Schmidt orthogonalization of a basis.'''\n",
        "    b_star[0] = b[0]\n",
        "    for i in range(1, b.shape[0]):  # Loop through dimension of basis.\n",
        "        b_star[i] = b[i]\n",
        "        for j in range(0, i):\n",
        "            b_star[i] -= proj(b_star[j], b[i])\n",
        "    # b_star\n",
        "\n",
        "def reduction():\n",
        "    '''Performs length reduction on a basis.'''\n",
        "    global k\n",
        "    total_reduction = 0  # Track the total amount by which the working vector is reduced.\n",
        "    for j in range(k-1, -1, -1):   # j loop. Loop down from k-1 to 0.\n",
        "        m = round(mu(b_star[j], b[k]))\n",
        "        total_reduction += m * b[j][0]\n",
        "        b[k] -= m * b[j]  # Reduce the working vector by multiples of preceding vectors.\n",
        "    if total_reduction > 0:\n",
        "        gram_schmidt()  # Recompute Gram-Schmidt if the working vector has been reduced.\n",
        "\n",
        "def lovasz():\n",
        "    global k\n",
        "    '''Checks the Lovasz condition for a basis. Either swaps adjacent basis vectors and recomputes Gram-Schmidt or increments the working index.'''\n",
        "    c = delta - mu(b_star[k-1], b[k])**2\n",
        "    if la.norm(b_star[k])**2 >= (c * la.norm(b_star[k-1])**2):  # Check the Lovasz condition.\n",
        "        k += 1  # Increment k if the condition is met.\n",
        "    else:\n",
        "        b[[k, k-1]] = b[[k-1, k]]  # Swap the working vector and the immediately preceding basis vector.\n",
        "        gram_schmidt()  # Recompute Gram-Schmidt if swapped.\n",
        "        k = max([k-1, 1])\n",
        "\n",
        "def lll():\n",
        "    global k\n",
        "    gram_schmidt()\n",
        "    steps = 0\n",
        "    while k <= b.shape[0] - 1:\n",
        "        reduction()\n",
        "        steps += 1\n",
        "\n",
        "\n",
        "        lovasz()\n",
        "        steps += 1\n",
        "\n",
        "\n",
        "    print('LLL Reduced Basis:\\n', b)\n",
        "    print('No of. steps in calculation: ', steps)\n",
        "\n",
        "# print(\"b_star: \", b_star)\n",
        "lll()\n",
        "\n",
        "\n"
      ],
      "metadata": {
        "colab": {
          "base_uri": "https://localhost:8080/"
        },
        "id": "ZytVRQ3pMjoe",
        "outputId": "12efd4ce-09bd-433b-8539-ddba9bc21cb5"
      },
      "execution_count": null,
      "outputs": [
        {
          "output_type": "stream",
          "name": "stdout",
          "text": [
            "[[ 1.  0.  0.  0.  0.  0.  0. 19.  1.  9. 40. 37.  7. 10.]\n",
            " [ 0.  1.  0.  0.  0.  0.  0. 10. 19.  1.  9. 40. 37.  7.]\n",
            " [ 0.  0.  1.  0.  0.  0.  0.  7. 10. 19.  1.  9. 40. 37.]\n",
            " [ 0.  0.  0.  1.  0.  0.  0. 37.  7. 10. 19.  1.  9. 40.]\n",
            " [ 0.  0.  0.  0.  1.  0.  0. 40. 37.  7. 10. 19.  1.  9.]\n",
            " [ 0.  0.  0.  0.  0.  1.  0.  9. 40. 37.  7. 10. 19.  1.]\n",
            " [ 0.  0.  0.  0.  0.  0.  1.  1.  9. 40. 37.  7. 10. 19.]\n",
            " [ 0.  0.  0.  0.  0.  0.  0. 41.  0.  0.  0.  0.  0.  0.]\n",
            " [ 0.  0.  0.  0.  0.  0.  0.  0. 41.  0.  0.  0.  0.  0.]\n",
            " [ 0.  0.  0.  0.  0.  0.  0.  0.  0. 41.  0.  0.  0.  0.]\n",
            " [ 0.  0.  0.  0.  0.  0.  0.  0.  0.  0. 41.  0.  0.  0.]\n",
            " [ 0.  0.  0.  0.  0.  0.  0.  0.  0.  0.  0. 41.  0.  0.]\n",
            " [ 0.  0.  0.  0.  0.  0.  0.  0.  0.  0.  0.  0. 41.  0.]\n",
            " [ 0.  0.  0.  0.  0.  0.  0.  0.  0.  0.  0.  0.  0. 41.]]\n",
            "LLL Reduced Basis:\n",
            " [[ 1.  1.  1.  1.  1.  1.  1.  0.  0.  0.  0.  0.  0.  0.]\n",
            " [ 0. -1.  1. -1. -1.  0.  1.  3. -3.  0.  0. -3.  3.  0.]\n",
            " [ 1.  0. -1.  1. -1. -1.  0.  0.  3. -3.  0.  0. -3.  3.]\n",
            " [ 0.  0. -2. -1.  1.  1. -1. -3.  0. -3.  0.  3.  3.  0.]\n",
            " [ 0.  1.  0. -1.  1. -1. -1.  3.  0.  3. -3.  0.  0. -3.]\n",
            " [ 1.  1.  0. -1.  0.  1. -1.  0.  3. -3.  0. -3.  3.  0.]\n",
            " [-1.  1. -1. -1.  0.  1.  0. -3.  0.  0. -3.  3.  0.  3.]\n",
            " [-5.  1.  5. -2.  5. -4.  1.  0.  2. -1. -1.  1.  0. -1.]\n",
            " [ 0. -2.  3.  0.  1. -5.  1. -3.  2. -1. -3.  5.  3. -3.]\n",
            " [ 4.  4. -6. -3. -3. -1.  3.  1. -2. -1.  2.  0. -1.  1.]\n",
            " [-3.  0.  3. -5. -2.  1.  5.  0.  3. -2.  1.  0. -2.  0.]\n",
            " [-5. -2.  1.  5. -3.  0.  3.  1.  0. -2.  0.  0.  3. -2.]\n",
            " [-6.  4.  3.  2.  0. -2. -4. -1. -2. -2.  3.  1.  2. -1.]\n",
            " [ 0. -4.  2.  3.  1. -4.  0.  7.  6.  5.  5.  4.  7.  7.]]\n",
            "No of. steps in calculation:  630\n"
          ]
        }
      ]
    },
    {
      "cell_type": "code",
      "source": [
        "b"
      ],
      "metadata": {
        "colab": {
          "base_uri": "https://localhost:8080/"
        },
        "id": "3riu8sFrF_ZO",
        "outputId": "dc1b51d4-1ef5-4603-c6d5-5d5e18dd6e41"
      },
      "execution_count": null,
      "outputs": [
        {
          "output_type": "execute_result",
          "data": {
            "text/plain": [
              "array([[ 1.,  1.,  1.,  1.,  1.,  1.,  1.,  0.,  0.,  0.,  0.,  0.,  0.,\n",
              "         0.],\n",
              "       [ 0., -1.,  1., -1., -1.,  0.,  1.,  3., -3.,  0.,  0., -3.,  3.,\n",
              "         0.],\n",
              "       [ 1.,  0., -1.,  1., -1., -1.,  0.,  0.,  3., -3.,  0.,  0., -3.,\n",
              "         3.],\n",
              "       [ 0.,  0., -2., -1.,  1.,  1., -1., -3.,  0., -3.,  0.,  3.,  3.,\n",
              "         0.],\n",
              "       [ 0.,  1.,  0., -1.,  1., -1., -1.,  3.,  0.,  3., -3.,  0.,  0.,\n",
              "        -3.],\n",
              "       [ 1.,  1.,  0., -1.,  0.,  1., -1.,  0.,  3., -3.,  0., -3.,  3.,\n",
              "         0.],\n",
              "       [-1.,  1., -1., -1.,  0.,  1.,  0., -3.,  0.,  0., -3.,  3.,  0.,\n",
              "         3.],\n",
              "       [-5.,  1.,  5., -2.,  5., -4.,  1.,  0.,  2., -1., -1.,  1.,  0.,\n",
              "        -1.],\n",
              "       [ 0., -2.,  3.,  0.,  1., -5.,  1., -3.,  2., -1., -3.,  5.,  3.,\n",
              "        -3.],\n",
              "       [ 4.,  4., -6., -3., -3., -1.,  3.,  1., -2., -1.,  2.,  0., -1.,\n",
              "         1.],\n",
              "       [-3.,  0.,  3., -5., -2.,  1.,  5.,  0.,  3., -2.,  1.,  0., -2.,\n",
              "         0.],\n",
              "       [-5., -2.,  1.,  5., -3.,  0.,  3.,  1.,  0., -2.,  0.,  0.,  3.,\n",
              "        -2.],\n",
              "       [-6.,  4.,  3.,  2.,  0., -2., -4., -1., -2., -2.,  3.,  1.,  2.,\n",
              "        -1.],\n",
              "       [ 0., -4.,  2.,  3.,  1., -4.,  0.,  7.,  6.,  5.,  5.,  4.,  7.,\n",
              "         7.]])"
            ]
          },
          "metadata": {},
          "execution_count": 12
        }
      ]
    },
    {
      "cell_type": "code",
      "source": [
        "from sympy.polys.domains import ZZ, QQ"
      ],
      "metadata": {
        "id": "gSTAWcVrShqW"
      },
      "execution_count": null,
      "outputs": []
    },
    {
      "cell_type": "code",
      "source": [
        "dM = DomainMatrix.from_Matrix(ans)\n",
        "dM.lll().to_Matrix()"
      ],
      "metadata": {
        "colab": {
          "base_uri": "https://localhost:8080/",
          "height": 302
        },
        "id": "wKECgYmCNB5P",
        "outputId": "b41ebd58-4509-4f7a-90c4-c008d10eb7be"
      },
      "execution_count": null,
      "outputs": [
        {
          "output_type": "execute_result",
          "data": {
            "text/plain": [
              "Matrix([\n",
              "[ 1,  1,  1,  1,  1,  1,  1,  0,  0,  0,  0,  0,  0,  0],\n",
              "[ 0, -1,  1, -1, -1,  0,  1,  3, -3,  0,  0, -3,  3,  0],\n",
              "[ 1,  0, -1,  1, -1, -1,  0,  0,  3, -3,  0,  0, -3,  3],\n",
              "[ 0,  0, -2, -1,  1,  1, -1, -3,  0, -3,  0,  3,  3,  0],\n",
              "[ 0,  1,  0, -1,  1, -1, -1,  3,  0,  3, -3,  0,  0, -3],\n",
              "[ 1,  1,  0, -1,  0,  1, -1,  0,  3, -3,  0, -3,  3,  0],\n",
              "[-1,  1, -1, -1,  0,  1,  0, -3,  0,  0, -3,  3,  0,  3],\n",
              "[-5,  1,  5, -2,  5, -4,  1,  0,  2, -1, -1,  1,  0, -1],\n",
              "[ 5, -3,  0,  3, -5, -2,  1,  0,  0,  3, -2,  1,  0, -2],\n",
              "[ 4,  4, -6, -3, -3, -1,  3,  1, -2, -1,  2,  0, -1,  1],\n",
              "[-3,  0,  3, -5, -2,  1,  5,  0,  3, -2,  1,  0, -2,  0],\n",
              "[-5, -2,  1,  5, -3,  0,  3,  1,  0, -2,  0,  0,  3, -2],\n",
              "[-6,  4,  3,  2,  0, -2, -4, -1, -2, -2,  3,  1,  2, -1],\n",
              "[ 0, -4,  2,  3,  1, -4,  0,  7,  6,  5,  5,  4,  7,  7]])"
            ],
            "text/latex": "$\\displaystyle \\left[\\begin{array}{cccccccccccccc}1 & 1 & 1 & 1 & 1 & 1 & 1 & 0 & 0 & 0 & 0 & 0 & 0 & 0\\\\0 & -1 & 1 & -1 & -1 & 0 & 1 & 3 & -3 & 0 & 0 & -3 & 3 & 0\\\\1 & 0 & -1 & 1 & -1 & -1 & 0 & 0 & 3 & -3 & 0 & 0 & -3 & 3\\\\0 & 0 & -2 & -1 & 1 & 1 & -1 & -3 & 0 & -3 & 0 & 3 & 3 & 0\\\\0 & 1 & 0 & -1 & 1 & -1 & -1 & 3 & 0 & 3 & -3 & 0 & 0 & -3\\\\1 & 1 & 0 & -1 & 0 & 1 & -1 & 0 & 3 & -3 & 0 & -3 & 3 & 0\\\\-1 & 1 & -1 & -1 & 0 & 1 & 0 & -3 & 0 & 0 & -3 & 3 & 0 & 3\\\\-5 & 1 & 5 & -2 & 5 & -4 & 1 & 0 & 2 & -1 & -1 & 1 & 0 & -1\\\\5 & -3 & 0 & 3 & -5 & -2 & 1 & 0 & 0 & 3 & -2 & 1 & 0 & -2\\\\4 & 4 & -6 & -3 & -3 & -1 & 3 & 1 & -2 & -1 & 2 & 0 & -1 & 1\\\\-3 & 0 & 3 & -5 & -2 & 1 & 5 & 0 & 3 & -2 & 1 & 0 & -2 & 0\\\\-5 & -2 & 1 & 5 & -3 & 0 & 3 & 1 & 0 & -2 & 0 & 0 & 3 & -2\\\\-6 & 4 & 3 & 2 & 0 & -2 & -4 & -1 & -2 & -2 & 3 & 1 & 2 & -1\\\\0 & -4 & 2 & 3 & 1 & -4 & 0 & 7 & 6 & 5 & 5 & 4 & 7 & 7\\end{array}\\right]$"
          },
          "metadata": {},
          "execution_count": 14
        }
      ]
    },
    {
      "cell_type": "code",
      "source": [
        "from itertools import product\n"
      ],
      "metadata": {
        "id": "HkF229LwondD"
      },
      "execution_count": null,
      "outputs": []
    },
    {
      "cell_type": "code",
      "source": [
        "def find_f_combination(matrix, f, N):\n",
        "    \"\"\"\n",
        "    Check if a linear combination of the first N elements of each row in the matrix\n",
        "    can form the target vector f.\n",
        "\n",
        "    Parameters:\n",
        "        matrix (np.array): LLL-reduced basis matrix.\n",
        "        f (list or np.array): Target private key vector.\n",
        "        N (int): Length of each subvector.\n",
        "\n",
        "    Returns:\n",
        "        list: A list of coefficient sets that form f if found.\n",
        "    \"\"\"\n",
        "    # Extract the first N elements from each row\n",
        "    subvectors = [row[:N] for row in matrix]\n",
        "    target_f = np.array(f[:N])  # Target subvector for comparison\n",
        "\n",
        "    # Generate coefficient combinations of -1, 0, and 1 for each subvector\n",
        "    coefficients = list(product([-1, 0, 1], repeat=len(subvectors)))\n",
        "    successful_combinations = []\n",
        "\n",
        "    # Check each coefficient combination\n",
        "    for coeff_set in coefficients:\n",
        "        # Linear combination using the current set of coefficients\n",
        "        combined_vector = sum(c * sub for c, sub in zip(coeff_set, subvectors))\n",
        "\n",
        "        # Check if the combined vector matches target_f\n",
        "        if np.array_equal(combined_vector, target_f):\n",
        "            successful_combinations.append(coeff_set)\n",
        "            print(f\"Match found with coefficients: {coeff_set}\")\n",
        "\n",
        "    if not successful_combinations:\n",
        "        print(\"No combination found that matches the private key f.\")\n",
        "    return successful_combinations"
      ],
      "metadata": {
        "id": "zpm84PYn43ng"
      },
      "execution_count": null,
      "outputs": []
    },
    {
      "cell_type": "code",
      "source": [
        "combinations = find_f_combination(b, f, N)"
      ],
      "metadata": {
        "colab": {
          "base_uri": "https://localhost:8080/"
        },
        "id": "XHwHM7Yd8YiL",
        "outputId": "e7a2cf3f-52f9-41da-e890-dffcb72fc97a"
      },
      "execution_count": null,
      "outputs": [
        {
          "output_type": "stream",
          "name": "stdout",
          "text": [
            "Match found with coefficients: (0, 0, 0, -1, 0, 0, 1, 0, 0, 0, 0, 0, 0, 0)\n"
          ]
        }
      ]
    }
  ]
}