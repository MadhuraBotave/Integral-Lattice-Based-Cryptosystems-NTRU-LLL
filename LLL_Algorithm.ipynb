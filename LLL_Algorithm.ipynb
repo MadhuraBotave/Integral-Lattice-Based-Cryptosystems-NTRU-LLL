{
  "cells": [
    {
      "cell_type": "code",
      "execution_count": null,
      "metadata": {
        "id": "HQ9GAwD-G1eU"
      },
      "outputs": [],
      "source": [
        "import numpy as np\n",
        "from numpy import linalg as la"
      ]
    },
    {
      "cell_type": "code",
      "source": [
        "from sympy import Matrix"
      ],
      "metadata": {
        "id": "rQeLlXr3gv8g"
      },
      "execution_count": null,
      "outputs": []
    },
    {
      "cell_type": "code",
      "source": [
        "from sympy.polys.matrices import DomainMatrix"
      ],
      "metadata": {
        "id": "QZSSb1BUgMcB"
      },
      "execution_count": null,
      "outputs": []
    },
    {
      "cell_type": "code",
      "source": [
        "'''\n",
        "b : basis vector\n",
        "b_star : orthogonalized vector\n",
        "delta : Lovasz constant, value we'll be working with -> 0.75\n",
        "k : keeps track of the index being worked on\n",
        "\n",
        "'''"
      ],
      "metadata": {
        "id": "f58wOBQcXu_S",
        "colab": {
          "base_uri": "https://localhost:8080/",
          "height": 36
        },
        "outputId": "ee9ab460-44b9-4a82-ca07-78b52c717ea6"
      },
      "execution_count": null,
      "outputs": [
        {
          "output_type": "execute_result",
          "data": {
            "text/plain": [
              "\"\\nb : basis vector\\nb_star : orthogonalized vector\\ndelta : Lovasz constant, value we'll be working with -> 0.75\\nk : keeps track of the index being worked on\\n\\n\""
            ],
            "application/vnd.google.colaboratory.intrinsic+json": {
              "type": "string"
            }
          },
          "metadata": {},
          "execution_count": 16
        }
      ]
    },
    {
      "cell_type": "code",
      "source": [
        "def create_lattice_matrix(h, N, q):\n",
        "    H = np.zeros((N, N), dtype=int)\n",
        "    for i in range(N):\n",
        "        H[i] = np.roll(h, i)\n",
        "    I = np.eye(N, dtype=int)\n",
        "    M_upper = np.hstack((I, H))\n",
        "    M_lower = np.hstack((np.zeros((N, N), dtype=int), q * I))\n",
        "    return np.vstack((M_upper, M_lower))"
      ],
      "metadata": {
        "id": "R50iqyUYjFjC"
      },
      "execution_count": null,
      "outputs": []
    },
    {
      "cell_type": "code",
      "source": [
        "def map_to_range(a):\n",
        "  p=3\n",
        "  print(a)\n",
        "  return np.array([(x if x <= p // 2 else x - p) for x in a])"
      ],
      "metadata": {
        "id": "yny1D9P5A8Aj"
      },
      "execution_count": null,
      "outputs": []
    },
    {
      "cell_type": "code",
      "execution_count": null,
      "metadata": {
        "colab": {
          "base_uri": "https://localhost:8080/"
        },
        "id": "foVkV6T7G_U1",
        "outputId": "c6aaa0f9-5d1b-4fae-ce5d-5b70a9808eb6"
      },
      "outputs": [
        {
          "output_type": "stream",
          "name": "stdout",
          "text": [
            "b=  [[ 1.  0.  0.  0.  0.  0.  0.  8. 37. 24. 32.  6. 38. 19.]\n",
            " [ 0.  1.  0.  0.  0.  0.  0. 19.  8. 37. 24. 32.  6. 38.]\n",
            " [ 0.  0.  1.  0.  0.  0.  0. 38. 19.  8. 37. 24. 32.  6.]\n",
            " [ 0.  0.  0.  1.  0.  0.  0.  6. 38. 19.  8. 37. 24. 32.]\n",
            " [ 0.  0.  0.  0.  1.  0.  0. 32.  6. 38. 19.  8. 37. 24.]\n",
            " [ 0.  0.  0.  0.  0.  1.  0. 24. 32.  6. 38. 19.  8. 37.]\n",
            " [ 0.  0.  0.  0.  0.  0.  1. 37. 24. 32.  6. 38. 19.  8.]\n",
            " [ 0.  0.  0.  0.  0.  0.  0. 41.  0.  0.  0.  0.  0.  0.]\n",
            " [ 0.  0.  0.  0.  0.  0.  0.  0. 41.  0.  0.  0.  0.  0.]\n",
            " [ 0.  0.  0.  0.  0.  0.  0.  0.  0. 41.  0.  0.  0.  0.]\n",
            " [ 0.  0.  0.  0.  0.  0.  0.  0.  0.  0. 41.  0.  0.  0.]\n",
            " [ 0.  0.  0.  0.  0.  0.  0.  0.  0.  0.  0. 41.  0.  0.]\n",
            " [ 0.  0.  0.  0.  0.  0.  0.  0.  0.  0.  0.  0. 41.  0.]\n",
            " [ 0.  0.  0.  0.  0.  0.  0.  0.  0.  0.  0.  0.  0. 41.]]\n",
            "LLL Reduced Basis:\n",
            " [[ 1.  1.  1.  1.  1.  1.  1.  0.  0.  0.  0.  0.  0.  0.]\n",
            " [ 1.  0. -1.  1.  0. -1. -1. -3.  0. -3.  0.  3.  3.  0.]\n",
            " [ 1.  0. -1. -1.  1.  0. -1.  0.  3.  3.  0. -3.  0. -3.]\n",
            " [-1.  1.  0. -1.  1.  0. -1.  0. -3.  0. -3.  0.  3.  3.]\n",
            " [-1.  1.  0. -1. -1.  1.  0. -3.  0.  3.  3.  0. -3.  0.]\n",
            " [-2.  1. -1. -1.  0.  0.  0.  0.  0.  3. -3.  0. -3.  3.]\n",
            " [ 1.  0.  0.  0.  2. -1.  1.  3.  0.  3. -3.  0.  0. -3.]\n",
            " [-1.  0.  5. -2. -1.  2. -5.  1.  2. -3.  0.  3. -1. -2.]\n",
            " [ 5. -2. -1.  2. -5. -1.  0. -3.  0.  3. -1. -2.  1.  2.]\n",
            " [ 0. -5.  2.  1. -2.  5.  1. -2.  3.  0. -3.  1.  2. -1.]\n",
            " [-3. -3. -5.  5.  4.  3.  0.  0. -2.  1.  0. -1.  0.  2.]\n",
            " [-3.  4. -2.  5.  1. -5.  0.  0.  1. -1.  0. -4.  4.  0.]\n",
            " [-2.  5.  1.  0. -5.  2.  1.  1.  2. -1. -2.  3.  0. -3.]\n",
            " [ 2.  0.  0. -3.  2. -4.  0.  7.  8.  2.  8.  5.  5.  6.]]\n",
            "No of. steps in calculation:  636\n"
          ]
        }
      ],
      "source": [
        "\n",
        "\n",
        "# Initialize the basis as a user input (example).\n",
        "#b = np.array([[1, 1, 1], [-1, 0, 2], [3, 5, 6]]).astype(float)\n",
        "b = np.array(create_lattice_matrix([8, 37, 24, 32, 6, 38, 19],7,41)).astype(float)\n",
        "print(\"b= \",b)\n",
        "b_star = b.copy()   # Initialize the Gram-Schmidt basis.\n",
        "\n",
        "k = 1  # Initialize the working index.\n",
        "delta = 0.75  # Lovasz constant\n",
        "\n",
        "def mu(u, v):\n",
        "    '''Computes <u,v>/<u,u>, which is the scale used in projection.'''\n",
        "    return np.dot(u, v) / np.dot(u, u)\n",
        "\n",
        "def proj(u, v):\n",
        "    '''Computes the projection of vector v onto vector u. Assumes u is not zero.'''\n",
        "    return mu(u, v) * u\n",
        "\n",
        "def gram_schmidt():\n",
        "    '''Computes Gram Schmidt orthogonalization of a basis.'''\n",
        "    b_star[0] = b[0]\n",
        "    for i in range(1, b.shape[0]):  # Loop through dimension of basis.\n",
        "        b_star[i] = b[i]\n",
        "        for j in range(0, i):\n",
        "            b_star[i] -= proj(b_star[j], b[i])\n",
        "    return b_star\n",
        "\n",
        "def reduction():\n",
        "    '''Performs length reduction on a basis.'''\n",
        "    global k\n",
        "    total_reduction = 0  # Track the total amount by which the working vector is reduced.\n",
        "    for j in range(k-1, -1, -1):   # j loop. Loop down from k-1 to 0.\n",
        "        m = round(mu(b_star[j], b[k]))\n",
        "        total_reduction += m * b[j][0]\n",
        "        b[k] -= m * b[j]  # Reduce the working vector by multiples of preceding vectors.\n",
        "    if total_reduction > 0:\n",
        "        gram_schmidt()  # Recompute Gram-Schmidt if the working vector has been reduced.\n",
        "\n",
        "def lovasz():\n",
        "    global k\n",
        "    '''Checks the Lovasz condition for a basis. Either swaps adjacent basis vectors and recomputes Gram-Schmidt or increments the working index.'''\n",
        "    c = delta - mu(b_star[k-1], b[k])**2\n",
        "    if la.norm(b_star[k])**2 >= (c * la.norm(b_star[k-1])**2):  # Check the Lovasz condition.\n",
        "        k += 1  # Increment k if the condition is met.\n",
        "    else:\n",
        "        b[[k, k-1]] = b[[k-1, k]]  # Swap the working vector and the immediately preceding basis vector.\n",
        "        gram_schmidt()  # Recompute Gram-Schmidt if swapped.\n",
        "        k = max([k-1, 1])\n",
        "\n",
        "def lll():\n",
        "    global k\n",
        "    gram_schmidt()\n",
        "    steps = 0\n",
        "    while k <= b.shape[0] - 1:\n",
        "        reduction()\n",
        "        steps += 1\n",
        "\n",
        "\n",
        "        lovasz()\n",
        "        steps += 1\n",
        "\n",
        "\n",
        "    print('LLL Reduced Basis:\\n', b)\n",
        "    print('No of. steps in calculation: ', steps)\n",
        "\n",
        "\n",
        "lll()\n",
        "\n",
        "\n"
      ]
    },
    {
      "cell_type": "code",
      "source": [
        "def construct_ntru_lattice(h, N, q):\n",
        "    H = np.zeros((N, N), dtype=int)\n",
        "    for i in range(N):\n",
        "        H[i] = np.roll(h, i)\n",
        "\n",
        "    lattice_matrix = np.block([\n",
        "        [np.identity(N, dtype=int), H],\n",
        "        [np.zeros((N, N), dtype=int), q * np.identity(N, dtype=int)]\n",
        "    ])\n",
        "\n",
        "    return Matrix(lattice_matrix)\n",
        "ans=construct_ntru_lattice([8, 37, 24, 32, 6, 38, 19],7,41)"
      ],
      "metadata": {
        "id": "xyu8p6wRgkvk"
      },
      "execution_count": null,
      "outputs": []
    },
    {
      "cell_type": "code",
      "source": [
        "print(ans)"
      ],
      "metadata": {
        "colab": {
          "base_uri": "https://localhost:8080/"
        },
        "id": "qWuDxEHNhGfO",
        "outputId": "c66304df-1222-4f65-b1f6-ac620f3403c7"
      },
      "execution_count": null,
      "outputs": [
        {
          "output_type": "stream",
          "name": "stdout",
          "text": [
            "Matrix([[1, 0, 0, 0, 0, 0, 0, 8, 37, 24, 32, 6, 38, 19], [0, 1, 0, 0, 0, 0, 0, 19, 8, 37, 24, 32, 6, 38], [0, 0, 1, 0, 0, 0, 0, 38, 19, 8, 37, 24, 32, 6], [0, 0, 0, 1, 0, 0, 0, 6, 38, 19, 8, 37, 24, 32], [0, 0, 0, 0, 1, 0, 0, 32, 6, 38, 19, 8, 37, 24], [0, 0, 0, 0, 0, 1, 0, 24, 32, 6, 38, 19, 8, 37], [0, 0, 0, 0, 0, 0, 1, 37, 24, 32, 6, 38, 19, 8], [0, 0, 0, 0, 0, 0, 0, 41, 0, 0, 0, 0, 0, 0], [0, 0, 0, 0, 0, 0, 0, 0, 41, 0, 0, 0, 0, 0], [0, 0, 0, 0, 0, 0, 0, 0, 0, 41, 0, 0, 0, 0], [0, 0, 0, 0, 0, 0, 0, 0, 0, 0, 41, 0, 0, 0], [0, 0, 0, 0, 0, 0, 0, 0, 0, 0, 0, 41, 0, 0], [0, 0, 0, 0, 0, 0, 0, 0, 0, 0, 0, 0, 41, 0], [0, 0, 0, 0, 0, 0, 0, 0, 0, 0, 0, 0, 0, 41]])\n"
          ]
        }
      ]
    },
    {
      "cell_type": "code",
      "source": [
        "dM = DomainMatrix.from_Matrix(ans)"
      ],
      "metadata": {
        "id": "D2Iff_XZhIGJ"
      },
      "execution_count": null,
      "outputs": []
    },
    {
      "cell_type": "code",
      "source": [
        "dM.lll().to_Matrix()"
      ],
      "metadata": {
        "colab": {
          "base_uri": "https://localhost:8080/",
          "height": 302
        },
        "id": "O9ewVzjYhjGf",
        "outputId": "2e4f854b-6c36-4329-d8dc-14968f229721"
      },
      "execution_count": null,
      "outputs": [
        {
          "output_type": "execute_result",
          "data": {
            "text/plain": [
              "Matrix([\n",
              "[ 1,  1,  1,  1,  1,  1,  1,  0,  0,  0,  0,  0,  0,  0],\n",
              "[ 1,  0, -1,  1,  0, -1, -1, -3,  0, -3,  0,  3,  3,  0],\n",
              "[ 1,  0, -1, -1,  1,  0, -1,  0,  3,  3,  0, -3,  0, -3],\n",
              "[-1,  1,  0, -1,  1,  0, -1,  0, -3,  0, -3,  0,  3,  3],\n",
              "[-1,  1,  0, -1, -1,  1,  0, -3,  0,  3,  3,  0, -3,  0],\n",
              "[-1,  0,  0,  0, -2,  1, -1, -3,  0, -3,  3,  0,  0,  3],\n",
              "[-2,  1, -1, -1,  0,  0,  0,  0,  0,  3, -3,  0, -3,  3],\n",
              "[-1,  0,  5, -2, -1,  2, -5,  1,  2, -3,  0,  3, -1, -2],\n",
              "[ 5, -2, -1,  2, -5, -1,  0, -3,  0,  3, -1, -2,  1,  2],\n",
              "[ 0, -5,  2,  1, -2,  5,  1, -2,  3,  0, -3,  1,  2, -1],\n",
              "[-4, -3,  0,  3,  3,  5, -5,  1,  0, -2,  0,  2, -1,  0],\n",
              "[-3,  4, -2,  5,  1, -5,  0,  0,  1, -1,  0, -4,  4,  0],\n",
              "[-2,  5,  1,  0, -5,  2,  1,  1,  2, -1, -2,  3,  0, -3],\n",
              "[ 2,  0,  0, -3,  2, -4,  0,  7,  8,  2,  8,  5,  5,  6]])"
            ],
            "text/latex": "$\\displaystyle \\left[\\begin{array}{cccccccccccccc}1 & 1 & 1 & 1 & 1 & 1 & 1 & 0 & 0 & 0 & 0 & 0 & 0 & 0\\\\1 & 0 & -1 & 1 & 0 & -1 & -1 & -3 & 0 & -3 & 0 & 3 & 3 & 0\\\\1 & 0 & -1 & -1 & 1 & 0 & -1 & 0 & 3 & 3 & 0 & -3 & 0 & -3\\\\-1 & 1 & 0 & -1 & 1 & 0 & -1 & 0 & -3 & 0 & -3 & 0 & 3 & 3\\\\-1 & 1 & 0 & -1 & -1 & 1 & 0 & -3 & 0 & 3 & 3 & 0 & -3 & 0\\\\-1 & 0 & 0 & 0 & -2 & 1 & -1 & -3 & 0 & -3 & 3 & 0 & 0 & 3\\\\-2 & 1 & -1 & -1 & 0 & 0 & 0 & 0 & 0 & 3 & -3 & 0 & -3 & 3\\\\-1 & 0 & 5 & -2 & -1 & 2 & -5 & 1 & 2 & -3 & 0 & 3 & -1 & -2\\\\5 & -2 & -1 & 2 & -5 & -1 & 0 & -3 & 0 & 3 & -1 & -2 & 1 & 2\\\\0 & -5 & 2 & 1 & -2 & 5 & 1 & -2 & 3 & 0 & -3 & 1 & 2 & -1\\\\-4 & -3 & 0 & 3 & 3 & 5 & -5 & 1 & 0 & -2 & 0 & 2 & -1 & 0\\\\-3 & 4 & -2 & 5 & 1 & -5 & 0 & 0 & 1 & -1 & 0 & -4 & 4 & 0\\\\-2 & 5 & 1 & 0 & -5 & 2 & 1 & 1 & 2 & -1 & -2 & 3 & 0 & -3\\\\2 & 0 & 0 & -3 & 2 & -4 & 0 & 7 & 8 & 2 & 8 & 5 & 5 & 6\\end{array}\\right]$"
          },
          "metadata": {},
          "execution_count": 32
        }
      ]
    }
  ],
  "metadata": {
    "colab": {
      "provenance": []
    },
    "kernelspec": {
      "display_name": "Python 3",
      "name": "python3"
    },
    "language_info": {
      "name": "python"
    }
  },
  "nbformat": 4,
  "nbformat_minor": 0
}